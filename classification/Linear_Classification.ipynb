{
 "cells": [
  {
   "cell_type": "markdown",
   "id": "b225fbf1",
   "metadata": {},
   "source": [
    "# Linear Classification in Scikit-Learn"
   ]
  },
  {
   "cell_type": "markdown",
   "id": "8b67d08c",
   "metadata": {},
   "source": [
    "Below are two linear classification models used in scikit learn trained and tested on simplified antarctic penguin data taken from the following source: https://www.kaggle.com/datasets/parulpandey/palmer-archipelago-antarctica-penguin-data\n",
    "\n",
    "\n",
    "The two linear classification models used are logistic regression and SVC's (support vector classifiers).\n",
    "\n",
    "Original Source: https://github.com/jonperk318/machine-learning-in-python"
   ]
  },
  {
   "cell_type": "markdown",
   "id": "7e5306e7",
   "metadata": {},
   "source": [
    "# Imports"
   ]
  },
  {
   "cell_type": "code",
   "execution_count": 1,
   "id": "f57b6a22",
   "metadata": {
    "ExecuteTime": {
     "end_time": "2024-03-01T00:01:05.303944Z",
     "start_time": "2024-03-01T00:01:05.299304Z"
    },
    "execution": {
     "iopub.execute_input": "2024-08-19T09:52:55.148669Z",
     "iopub.status.busy": "2024-08-19T09:52:55.147883Z",
     "iopub.status.idle": "2024-08-19T09:52:55.887723Z",
     "shell.execute_reply": "2024-08-19T09:52:55.887330Z",
     "shell.execute_reply.started": "2024-08-19T09:52:55.148613Z"
    }
   },
   "outputs": [],
   "source": [
    "import numpy as np\n",
    "import pandas as pd\n",
    "from sklearn.preprocessing import OrdinalEncoder\n",
    "import matplotlib as mpl\n",
    "import matplotlib.pyplot as plt\n",
    "import matplotlib.cm as cm\n",
    "from sklearn.linear_model import LogisticRegression\n",
    "from sklearn.svm import LinearSVC\n",
    "from sklearn.metrics import confusion_matrix\n",
    "from sklearn.metrics import f1_score"
   ]
  },
  {
   "cell_type": "markdown",
   "id": "9e7e7b50",
   "metadata": {},
   "source": [
    "# a) Loading data"
   ]
  },
  {
   "cell_type": "code",
   "execution_count": 2,
   "id": "e35f06de",
   "metadata": {
    "ExecuteTime": {
     "end_time": "2024-02-29T16:36:17.241770Z",
     "start_time": "2024-02-29T16:36:17.209063Z"
    },
    "execution": {
     "iopub.execute_input": "2024-08-19T09:52:57.710399Z",
     "iopub.status.busy": "2024-08-19T09:52:57.710234Z",
     "iopub.status.idle": "2024-08-19T09:52:57.721542Z",
     "shell.execute_reply": "2024-08-19T09:52:57.721252Z",
     "shell.execute_reply.started": "2024-08-19T09:52:57.710387Z"
    }
   },
   "outputs": [
    {
     "data": {
      "text/html": [
       "<div>\n",
       "<style scoped>\n",
       "    .dataframe tbody tr th:only-of-type {\n",
       "        vertical-align: middle;\n",
       "    }\n",
       "\n",
       "    .dataframe tbody tr th {\n",
       "        vertical-align: top;\n",
       "    }\n",
       "\n",
       "    .dataframe thead th {\n",
       "        text-align: right;\n",
       "    }\n",
       "</style>\n",
       "<table border=\"1\" class=\"dataframe\">\n",
       "  <thead>\n",
       "    <tr style=\"text-align: right;\">\n",
       "      <th></th>\n",
       "      <th>species</th>\n",
       "      <th>culmen_length_mm</th>\n",
       "      <th>culmen_depth_mm</th>\n",
       "      <th>flipper_length_mm</th>\n",
       "      <th>body_mass_g</th>\n",
       "    </tr>\n",
       "  </thead>\n",
       "  <tbody>\n",
       "    <tr>\n",
       "      <th>0</th>\n",
       "      <td>Adelie</td>\n",
       "      <td>39.1</td>\n",
       "      <td>18.7</td>\n",
       "      <td>181.0</td>\n",
       "      <td>3750.0</td>\n",
       "    </tr>\n",
       "    <tr>\n",
       "      <th>1</th>\n",
       "      <td>Adelie</td>\n",
       "      <td>39.5</td>\n",
       "      <td>17.4</td>\n",
       "      <td>186.0</td>\n",
       "      <td>3800.0</td>\n",
       "    </tr>\n",
       "    <tr>\n",
       "      <th>2</th>\n",
       "      <td>Adelie</td>\n",
       "      <td>40.3</td>\n",
       "      <td>18.0</td>\n",
       "      <td>195.0</td>\n",
       "      <td>3250.0</td>\n",
       "    </tr>\n",
       "    <tr>\n",
       "      <th>4</th>\n",
       "      <td>Adelie</td>\n",
       "      <td>36.7</td>\n",
       "      <td>19.3</td>\n",
       "      <td>193.0</td>\n",
       "      <td>3450.0</td>\n",
       "    </tr>\n",
       "    <tr>\n",
       "      <th>5</th>\n",
       "      <td>Adelie</td>\n",
       "      <td>39.3</td>\n",
       "      <td>20.6</td>\n",
       "      <td>190.0</td>\n",
       "      <td>3650.0</td>\n",
       "    </tr>\n",
       "    <tr>\n",
       "      <th>...</th>\n",
       "      <td>...</td>\n",
       "      <td>...</td>\n",
       "      <td>...</td>\n",
       "      <td>...</td>\n",
       "      <td>...</td>\n",
       "    </tr>\n",
       "    <tr>\n",
       "      <th>338</th>\n",
       "      <td>Gentoo</td>\n",
       "      <td>47.2</td>\n",
       "      <td>13.7</td>\n",
       "      <td>214.0</td>\n",
       "      <td>4925.0</td>\n",
       "    </tr>\n",
       "    <tr>\n",
       "      <th>340</th>\n",
       "      <td>Gentoo</td>\n",
       "      <td>46.8</td>\n",
       "      <td>14.3</td>\n",
       "      <td>215.0</td>\n",
       "      <td>4850.0</td>\n",
       "    </tr>\n",
       "    <tr>\n",
       "      <th>341</th>\n",
       "      <td>Gentoo</td>\n",
       "      <td>50.4</td>\n",
       "      <td>15.7</td>\n",
       "      <td>222.0</td>\n",
       "      <td>5750.0</td>\n",
       "    </tr>\n",
       "    <tr>\n",
       "      <th>342</th>\n",
       "      <td>Gentoo</td>\n",
       "      <td>45.2</td>\n",
       "      <td>14.8</td>\n",
       "      <td>212.0</td>\n",
       "      <td>5200.0</td>\n",
       "    </tr>\n",
       "    <tr>\n",
       "      <th>343</th>\n",
       "      <td>Gentoo</td>\n",
       "      <td>49.9</td>\n",
       "      <td>16.1</td>\n",
       "      <td>213.0</td>\n",
       "      <td>5400.0</td>\n",
       "    </tr>\n",
       "  </tbody>\n",
       "</table>\n",
       "<p>334 rows × 5 columns</p>\n",
       "</div>"
      ],
      "text/plain": [
       "    species  culmen_length_mm  culmen_depth_mm  flipper_length_mm  body_mass_g\n",
       "0    Adelie              39.1             18.7              181.0       3750.0\n",
       "1    Adelie              39.5             17.4              186.0       3800.0\n",
       "2    Adelie              40.3             18.0              195.0       3250.0\n",
       "4    Adelie              36.7             19.3              193.0       3450.0\n",
       "5    Adelie              39.3             20.6              190.0       3650.0\n",
       "..      ...               ...              ...                ...          ...\n",
       "338  Gentoo              47.2             13.7              214.0       4925.0\n",
       "340  Gentoo              46.8             14.3              215.0       4850.0\n",
       "341  Gentoo              50.4             15.7              222.0       5750.0\n",
       "342  Gentoo              45.2             14.8              212.0       5200.0\n",
       "343  Gentoo              49.9             16.1              213.0       5400.0\n",
       "\n",
       "[334 rows x 5 columns]"
      ]
     },
     "execution_count": 2,
     "metadata": {},
     "output_type": "execute_result"
    }
   ],
   "source": [
    "df = pd.read_csv(\"penguin-sizes.csv\")\n",
    "df = df.dropna()\n",
    "df = df.drop(columns = df.columns[[1, 6]], axis=1)\n",
    "df"
   ]
  },
  {
   "cell_type": "code",
   "execution_count": 3,
   "id": "b8c991c9",
   "metadata": {
    "ExecuteTime": {
     "end_time": "2024-02-29T16:36:17.249433Z",
     "start_time": "2024-02-29T16:36:17.243570Z"
    },
    "execution": {
     "iopub.execute_input": "2024-08-19T09:53:27.805229Z",
     "iopub.status.busy": "2024-08-19T09:53:27.804365Z",
     "iopub.status.idle": "2024-08-19T09:53:27.815437Z",
     "shell.execute_reply": "2024-08-19T09:53:27.814390Z",
     "shell.execute_reply.started": "2024-08-19T09:53:27.805191Z"
    }
   },
   "outputs": [
    {
     "name": "stdout",
     "output_type": "stream",
     "text": [
      "X shape:  (334, 4) \n",
      "\n",
      "Feature names:  culmen_length_mm   culmen_depth_mm   flipper_length_mm   body_mass_g   \n",
      "\n",
      "Feature values of first sample:  [  39.1   18.7  181.  3750. ] \n",
      "\n",
      "y shape:  (334,) \n",
      "\n",
      "Target names:  species \n",
      "\n",
      "Target values (penguin species):  ['Adelie' 'Chinstrap' 'Gentoo']\n"
     ]
    }
   ],
   "source": [
    "X = df[df.columns[[1,2,3,4]]].to_numpy()\n",
    "y = df[df.columns[0]].to_numpy()\n",
    "\n",
    "print('X shape: ', X.shape, '\\n') # 334 samples, 4 features\n",
    "print('Feature names: ', df.columns[1], ' ', df.columns[2], ' ',\n",
    "      df.columns[3], ' ', df.columns[4], ' ', '\\n')\n",
    "print('Feature values of first sample: ', X[0,:], '\\n')\n",
    "print('y shape: ', y.shape,'\\n')\n",
    "print('Target names: ', df.columns[0], '\\n')\n",
    "print('Target values (penguin species): ', np.unique(y))"
   ]
  },
  {
   "cell_type": "code",
   "execution_count": 4,
   "id": "8e9eb5f3",
   "metadata": {
    "ExecuteTime": {
     "end_time": "2024-02-29T16:36:17.256399Z",
     "start_time": "2024-02-29T16:36:17.251689Z"
    },
    "execution": {
     "iopub.execute_input": "2024-08-19T09:53:57.755946Z",
     "iopub.status.busy": "2024-08-19T09:53:57.755497Z",
     "iopub.status.idle": "2024-08-19T09:53:57.764085Z",
     "shell.execute_reply": "2024-08-19T09:53:57.763655Z",
     "shell.execute_reply.started": "2024-08-19T09:53:57.755914Z"
    }
   },
   "outputs": [
    {
     "name": "stdout",
     "output_type": "stream",
     "text": [
      "Number of Adelie penguin samples:  146\n",
      "Number of Chainstrap penguin samples:  68\n",
      "Number of Gentoo penguin samples:  120\n",
      "Total samples:  334\n"
     ]
    }
   ],
   "source": [
    "# Converting target strings to numerical values\n",
    "y = np.reshape(y,(-1,1))\n",
    "y_enc = OrdinalEncoder().fit_transform(y).ravel()\n",
    "#print(\"Encoded target values: \", y_enc)\n",
    "\n",
    "def count_freq(arr, n):\n",
    "    count = 0\n",
    "    for i in arr:\n",
    "        if i == n:\n",
    "            count += 1\n",
    "    return count\n",
    "\n",
    "num_0 = count_freq(y_enc, 0)\n",
    "num_1 = count_freq(y_enc, 1)\n",
    "num_2 = count_freq(y_enc, 2)\n",
    "\n",
    "print(\"Number of Adelie penguin samples: \", num_0)\n",
    "print(\"Number of Chainstrap penguin samples: \", num_1)\n",
    "print(\"Number of Gentoo penguin samples: \", num_2)\n",
    "print(\"Total samples: \", num_0 + num_1 + num_2)"
   ]
  },
  {
   "cell_type": "markdown",
   "id": "6b94c654",
   "metadata": {},
   "source": [
    "# b) Scatter plot"
   ]
  },
  {
   "cell_type": "code",
   "execution_count": 5,
   "id": "ccc634a1",
   "metadata": {
    "ExecuteTime": {
     "end_time": "2024-03-01T03:11:25.943131Z",
     "start_time": "2024-03-01T03:11:25.767771Z"
    },
    "execution": {
     "iopub.execute_input": "2024-08-19T10:05:18.744933Z",
     "iopub.status.busy": "2024-08-19T10:05:18.744515Z",
     "iopub.status.idle": "2024-08-19T10:05:18.858944Z",
     "shell.execute_reply": "2024-08-19T10:05:18.858422Z",
     "shell.execute_reply.started": "2024-08-19T10:05:18.744903Z"
    },
    "scrolled": true
   },
   "outputs": [
    {
     "data": {
      "image/png": "[encoded data removed]",
      "text/plain": [
       "<Figure size 800x600 with 2 Axes>"
      ]
     },
     "metadata": {},
     "output_type": "display_data"
    }
   ],
   "source": [
    "fig, ax = plt.subplots(figsize=(8,6))\n",
    "\n",
    "# Discretize the colormap to represent 3 classes\n",
    "cmap = cm.cool\n",
    "cmaplist = [cmap(i) for i in range(cmap.N)]\n",
    "cmap = mpl.colors.LinearSegmentedColormap.from_list(\n",
    "    'Penguin classes', cmaplist, cmap.N)\n",
    "bounds = np.linspace(0, 2, 4)\n",
    "norm = mpl.colors.BoundaryNorm(bounds, cmap.N)\n",
    "\n",
    "# Plot\n",
    "s = ax.scatter(X[:,0],X[:,1], s=40, cmap=cmap, norm=norm, c=y_enc)\n",
    "fig.colorbar(s, ticks=[0, 1, 2])\n",
    "\n",
    "ax.set_xlabel('Culmen Length (mm)')\n",
    "ax.set_ylabel('Culmen Depth (mm)')\n",
    "plt.show()"
   ]
  },
  {
   "cell_type": "markdown",
   "id": "7b95fd7c",
   "metadata": {},
   "source": [
    "# c) Histograms"
   ]
  },
  {
   "cell_type": "code",
   "execution_count": 6,
   "id": "56f466e3",
   "metadata": {
    "ExecuteTime": {
     "end_time": "2024-02-29T16:36:17.543145Z",
     "start_time": "2024-02-29T16:36:17.509601Z"
    },
    "execution": {
     "iopub.execute_input": "2024-08-19T10:19:23.556184Z",
     "iopub.status.busy": "2024-08-19T10:19:23.555794Z",
     "iopub.status.idle": "2024-08-19T10:19:23.563939Z",
     "shell.execute_reply": "2024-08-19T10:19:23.562905Z",
     "shell.execute_reply.started": "2024-08-19T10:19:23.556156Z"
    }
   },
   "outputs": [],
   "source": [
    "def label_array(X, y, n): # Function to create array of sample values of a specified feature for each class\n",
    "    X_num = []\n",
    "    for i in range(len(X)):\n",
    "        if int(y[i]) == n:\n",
    "            X_num.append(X[i])\n",
    "    X_num = np.array(X_num)\n",
    "    return X_num\n",
    "        \n",
    "# Create array of culmen length values for each class\n",
    "X0_0 = label_array(X[:,0], y_enc, 0)\n",
    "X0_1 = label_array(X[:,0], y_enc, 1)\n",
    "X0_2 = label_array(X[:,0], y_enc, 2)\n",
    "\n",
    "# Create array of culmen depth values for each class\n",
    "X1_0 = label_array(X[:,1], y_enc, 0)\n",
    "X1_1 = label_array(X[:,1], y_enc, 1)\n",
    "X1_2 = label_array(X[:,1], y_enc, 2)"
   ]
  },
  {
   "cell_type": "code",
   "execution_count": 7,
   "id": "057ac65a",
   "metadata": {
    "ExecuteTime": {
     "end_time": "2024-03-01T03:12:27.659467Z",
     "start_time": "2024-03-01T03:12:27.518566Z"
    },
    "execution": {
     "iopub.execute_input": "2024-08-19T10:19:24.835888Z",
     "iopub.status.busy": "2024-08-19T10:19:24.835365Z",
     "iopub.status.idle": "2024-08-19T10:19:24.955888Z",
     "shell.execute_reply": "2024-08-19T10:19:24.955460Z",
     "shell.execute_reply.started": "2024-08-19T10:19:24.835851Z"
    }
   },
   "outputs": [
    {
     "data": {
      "image/png": "[encoded data removed]",
      "text/plain": [
       "<Figure size 800x600 with 1 Axes>"
      ]
     },
     "metadata": {},
     "output_type": "display_data"
    }
   ],
   "source": [
    "# Culmen Length\n",
    "fig, ax = plt.subplots(figsize=(8,6))\n",
    "\n",
    "alpha = 0.4\n",
    "cmap = mpl.colormaps['cool']\n",
    "\n",
    "ax.hist(X0_0, label=\"Adelie\", alpha=alpha, color=cmap(0.0))\n",
    "ax.hist(X0_1, label=\"Chainstrap\", alpha=alpha, color=cmap(0.5))\n",
    "ax.hist(X0_2, label=\"Gentoo\", alpha=alpha, color=cmap(1.0))\n",
    "\n",
    "plt.legend(loc='upper right') \n",
    "plt.title(\"Culmen Length of Different Penguin Species\")\n",
    "ax.set_xlabel(\"Culmen Length (mm)\")\n",
    "ax.set_ylabel(\"Count\")\n",
    "plt.show()"
   ]
  },
  {
   "cell_type": "code",
   "execution_count": 8,
   "id": "f4cdcbd5",
   "metadata": {
    "ExecuteTime": {
     "end_time": "2024-03-01T03:12:37.536317Z",
     "start_time": "2024-03-01T03:12:37.395125Z"
    },
    "execution": {
     "iopub.execute_input": "2024-08-19T10:23:42.184447Z",
     "iopub.status.busy": "2024-08-19T10:23:42.183952Z",
     "iopub.status.idle": "2024-08-19T10:23:42.281889Z",
     "shell.execute_reply": "2024-08-19T10:23:42.281499Z",
     "shell.execute_reply.started": "2024-08-19T10:23:42.184419Z"
    }
   },
   "outputs": [
    {
     "data": {
      "image/png": "[encoded data removed]",
      "text/plain": [
       "<Figure size 800x600 with 1 Axes>"
      ]
     },
     "metadata": {},
     "output_type": "display_data"
    }
   ],
   "source": [
    "# Culmen Depth\n",
    "fig, ax = plt.subplots(figsize=(8,6))\n",
    "\n",
    "ax.hist(X1_0, label=\"Adelie\", alpha=alpha, color=cmap(0.0))\n",
    "ax.hist(X1_1, label=\"Chainstrap\", alpha=alpha, color=cmap(0.5))\n",
    "ax.hist(X1_2, label=\"Gentoo\", alpha=alpha, color=cmap(1.0))\n",
    "\n",
    "plt.legend(loc='upper right') \n",
    "plt.title(\"Culman Depth of Different Penguin Species\")\n",
    "ax.set_xlabel(\"Culmen Depth (mm)\")\n",
    "ax.set_ylabel(\"Count\")\n",
    "plt.show()"
   ]
  },
  {
   "cell_type": "markdown",
   "id": "e30bed85",
   "metadata": {},
   "source": [
    "# d) Train/test split"
   ]
  },
  {
   "cell_type": "code",
   "execution_count": 9,
   "id": "bb0942db",
   "metadata": {
    "ExecuteTime": {
     "end_time": "2024-03-01T03:14:42.749115Z",
     "start_time": "2024-03-01T03:14:42.736371Z"
    },
    "execution": {
     "iopub.execute_input": "2024-08-19T10:25:35.636790Z",
     "iopub.status.busy": "2024-08-19T10:25:35.636441Z",
     "iopub.status.idle": "2024-08-19T10:25:35.646451Z",
     "shell.execute_reply": "2024-08-19T10:25:35.645594Z",
     "shell.execute_reply.started": "2024-08-19T10:25:35.636763Z"
    }
   },
   "outputs": [
    {
     "name": "stdout",
     "output_type": "stream",
     "text": [
      "X training data:  (250, 4) \n",
      " X test data:  (84, 4) \n",
      "\n",
      "y training data:  (250,) \n",
      " y test data:  (84,)\n"
     ]
    }
   ],
   "source": [
    "from sklearn.model_selection import train_test_split\n",
    "\n",
    "# train_test_split(*arrays, test_size=None, train_size=None,random_state=None, shuffle=True, stratify=None)\n",
    "# Note: test_size and train_size is between 0.0 to 1.0.\n",
    "# If None is specified, test_size = 0.25 and train_size = 1- test_size = 0.75\n",
    "\n",
    "X_train, X_test, y_train, y_test = train_test_split (X, y_enc, random_state=1, shuffle=True)\n",
    "\n",
    "print(\"X training data: \", X_train.shape, \"\\n\", \"X test data: \", X_test.shape,\"\\n\")\n",
    "print(\"y training data: \", y_train.shape, \"\\n\", \"y test data: \", y_test.shape)"
   ]
  },
  {
   "cell_type": "markdown",
   "id": "039857d9",
   "metadata": {},
   "source": [
    "# e) Training models"
   ]
  },
  {
   "cell_type": "code",
   "execution_count": 10,
   "id": "290c6bb2",
   "metadata": {
    "ExecuteTime": {
     "end_time": "2024-03-01T02:55:10.544606Z",
     "start_time": "2024-03-01T02:55:07.429441Z"
    },
    "execution": {
     "iopub.execute_input": "2024-08-19T10:26:32.314230Z",
     "iopub.status.busy": "2024-08-19T10:26:32.313876Z",
     "iopub.status.idle": "2024-08-19T10:26:33.569874Z",
     "shell.execute_reply": "2024-08-19T10:26:33.569503Z",
     "shell.execute_reply.started": "2024-08-19T10:26:32.314204Z"
    }
   },
   "outputs": [
    {
     "name": "stdout",
     "output_type": "stream",
     "text": [
      "Logistic regression scores:  [(0.01, 0.6904761904761905), (0.1, 0.7857142857142857), (1.0, 0.7857142857142857), (10.0, 0.7857142857142857), (100.0, 0.7857142857142857)]\n",
      "Linear SVM scores  [1.0, 1.0, 1.0, 1.0, 1.0]\n"
     ]
    }
   ],
   "source": [
    "#sklearn.linear_model.LogisticRegression(penalty='l2', *, dual=False, tol=0.0001, C=1.0, fit_intercept=True, \n",
    "#            intercept_scaling=1, class_weight=None, random_state=None, solver='lbfgs', max_iter=100, \n",
    "#            multi_class='auto', verbose=0, warm_start=False, n_jobs=None, l1_ratio=None)\n",
    "#sklearn.svm.SVC(*, C=1.0, kernel='rbf', degree=3, gamma='scale', coef0=0.0, shrinking=True, probability=False, \n",
    "#            tol=0.001, cache_size=200, class_weight=None, verbose=False, max_iter=-1, decision_function_shape='ovr', \n",
    "#            break_ties=False, random_state=None)[source]\n",
    "\n",
    "C = np.logspace(-2, 2, 5) # Regularization parameter from 10e-2 to 10e2\n",
    "\n",
    "# Logistic regression\n",
    "logreg_scores = []\n",
    "for i in C:\n",
    "    logreg_scores.append(LogisticRegression(penalty='l1', solver='saga', C=i, max_iter=10000, random_state=1)\n",
    "                         .fit(X_train, y_train).score(X_test, y_test))\n",
    "\n",
    "# Support vector classifier\n",
    "SVC_scores = []\n",
    "for i in C:\n",
    "    SVC_scores.append(LinearSVC(C=i, max_iter=1000, random_state=1, dual=False)\n",
    "                      .fit(X_train, y_train).score(X_test, y_test))\n",
    "\n",
    "# Note: the SVM model never converges for any maximum iteration value\n",
    "print(\"Logistic regression scores: \", list(zip(C, logreg_scores)))\n",
    "print(\"Linear SVM scores \", SVC_scores)"
   ]
  },
  {
   "cell_type": "code",
   "execution_count": 11,
   "id": "f8acfafa",
   "metadata": {
    "ExecuteTime": {
     "end_time": "2024-03-01T02:55:14.617192Z",
     "start_time": "2024-03-01T02:55:14.610234Z"
    },
    "execution": {
     "iopub.execute_input": "2024-08-19T10:26:38.009471Z",
     "iopub.status.busy": "2024-08-19T10:26:38.009041Z",
     "iopub.status.idle": "2024-08-19T10:26:38.014179Z",
     "shell.execute_reply": "2024-08-19T10:26:38.013172Z",
     "shell.execute_reply.started": "2024-08-19T10:26:38.009439Z"
    },
    "scrolled": true
   },
   "outputs": [
    {
     "name": "stdout",
     "output_type": "stream",
     "text": [
      "Best C for logistic regression:  0.1\n",
      "Best C for SVC:  0.01\n"
     ]
    }
   ],
   "source": [
    "best_logreg = np.argmax(logreg_scores)\n",
    "best_logreg_C = C[best_logreg]\n",
    "\n",
    "best_SVC = np.argmax(SVC_scores)\n",
    "best_SVC_C = C[best_SVC]\n",
    "\n",
    "print(\"Best C for logistic regression: \", best_logreg_C)\n",
    "print(\"Best C for SVC: \", best_SVC_C)"
   ]
  },
  {
   "cell_type": "code",
   "execution_count": 14,
   "id": "03d9afe9",
   "metadata": {
    "ExecuteTime": {
     "end_time": "2024-03-01T03:02:57.871388Z",
     "start_time": "2024-03-01T03:02:57.232259Z"
    },
    "execution": {
     "iopub.execute_input": "2024-08-19T10:26:38.732480Z",
     "iopub.status.busy": "2024-08-19T10:26:38.732174Z",
     "iopub.status.idle": "2024-08-19T10:26:38.997877Z",
     "shell.execute_reply": "2024-08-19T10:26:38.997377Z",
     "shell.execute_reply.started": "2024-08-19T10:26:38.732461Z"
    }
   },
   "outputs": [
    {
     "name": "stdout",
     "output_type": "stream",
     "text": [
      "Logistic regression confusion matrix:  \n",
      " [[30  0  5]\n",
      " [ 6 12  3]\n",
      " [ 4  0 24]] \n",
      "\n",
      "SVC confusion matrix:  \n",
      " [[28  0  7]\n",
      " [ 1 17  3]\n",
      " [ 0  0 28]] \n",
      "\n",
      "Logistic regression f1 score:  \n",
      " [0.8        0.72727273 0.8       ] \n",
      "\n",
      "SVC f1 score:  \n",
      " [0.875      0.89473684 0.84848485] \n",
      "\n"
     ]
    },
    {
     "name": "stderr",
     "output_type": "stream",
     "text": [
      "/store/venv/da5401/lib/python3.10/site-packages/sklearn/svm/_base.py:1235: ConvergenceWarning: Liblinear failed to converge, increase the number of iterations.\n",
      "  warnings.warn(\n"
     ]
    }
   ],
   "source": [
    "logreg = LogisticRegression(penalty='l1', solver='saga', C=best_logreg_C, max_iter=10000, random_state=1).fit(X_train, y_train)\n",
    "SVC = LinearSVC(C=best_SVC_C, max_iter=10000, random_state=1, dual=True).fit(X_train, y_train)\n",
    "\n",
    "y_logreg_pred = logreg.predict(X_test)\n",
    "y_SVC_pred = SVC.predict(X_test)\n",
    "\n",
    "logreg_conf = confusion_matrix(y_test, y_logreg_pred)\n",
    "SVC_conf = confusion_matrix(y_test, y_SVC_pred)\n",
    "\n",
    "average = None\n",
    "logreg_f1 = f1_score(y_test, y_logreg_pred, average=average)\n",
    "SVC_f1 = f1_score(y_test, y_SVC_pred, average=average)\n",
    "\n",
    "print(\"Logistic regression confusion matrix: \", \"\\n\", logreg_conf, \"\\n\")\n",
    "print(\"SVC confusion matrix: \", \"\\n\", SVC_conf, \"\\n\")\n",
    "print(\"Logistic regression f1 score: \", \"\\n\", logreg_f1, \"\\n\")\n",
    "print(\"SVC f1 score: \", \"\\n\", SVC_f1, \"\\n\")"
   ]
  },
  {
   "cell_type": "code",
   "execution_count": null,
   "id": "49044d6e",
   "metadata": {},
   "outputs": [],
   "source": []
  }
 ],
 "metadata": {
  "hide_input": false,
  "kernelspec": {
   "display_name": "da5401",
   "language": "python",
   "name": "da5401"
  },
  "language_info": {
   "codemirror_mode": {
    "name": "ipython",
    "version": 3
   },
   "file_extension": ".py",
   "mimetype": "text/x-python",
   "name": "python",
   "nbconvert_exporter": "python",
   "pygments_lexer": "ipython3",
   "version": "3.10.18"
  },
  "toc": {
   "base_numbering": 1,
   "nav_menu": {},
   "number_sections": true,
   "sideBar": true,
   "skip_h1_title": false,
   "title_cell": "Table of Contents",
   "title_sidebar": "Contents",
   "toc_cell": false,
   "toc_position": {},
   "toc_section_display": true,
   "toc_window_display": false
  }
 },
 "nbformat": 4,
 "nbformat_minor": 5
}
